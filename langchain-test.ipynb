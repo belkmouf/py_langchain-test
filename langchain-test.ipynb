{
 "cells": [
  {
   "cell_type": "code",
   "execution_count": 1,
   "metadata": {},
   "outputs": [
    {
     "name": "stderr",
     "output_type": "stream",
     "text": [
      "\u001b[1;38;5;39mCOMET INFO:\u001b[0m Valid Comet API Key saved in /Users/christianbraun/.comet.config (set COMET_CONFIG to change where it is saved).\n"
     ]
    },
    {
     "ename": "KeyError",
     "evalue": "'SERPAPI_KEY'",
     "output_type": "error",
     "traceback": [
      "\u001b[0;31m---------------------------------------------------------------------------\u001b[0m",
      "\u001b[0;31mKeyError\u001b[0m                                  Traceback (most recent call last)",
      "\u001b[1;32m/Users/christianbraun/Google Drive/py_langchain-test/langchain-test.ipynb Cell 1\u001b[0m line \u001b[0;36m1\n\u001b[1;32m      <a href='vscode-notebook-cell:/Users/christianbraun/Google%20Drive/py_langchain-test/langchain-test.ipynb#W0sZmlsZQ%3D%3D?line=8'>9</a>\u001b[0m client \u001b[39m=\u001b[39m OpenAI(api_key \u001b[39m=\u001b[39m os\u001b[39m.\u001b[39mgetenv(\u001b[39m'\u001b[39m\u001b[39mOPENAI_API_KEY\u001b[39m\u001b[39m'\u001b[39m))\n\u001b[1;32m     <a href='vscode-notebook-cell:/Users/christianbraun/Google%20Drive/py_langchain-test/langchain-test.ipynb#W0sZmlsZQ%3D%3D?line=10'>11</a>\u001b[0m comet_ml\u001b[39m.\u001b[39minit(api_key\u001b[39m=\u001b[39mos\u001b[39m.\u001b[39menviron[\u001b[39m\"\u001b[39m\u001b[39mCOMET_ML_API_KEY\u001b[39m\u001b[39m\"\u001b[39m],project_name\u001b[39m=\u001b[39m\u001b[39m\"\u001b[39m\u001b[39mcomet-example-langchain\u001b[39m\u001b[39m\"\u001b[39m)\n\u001b[0;32m---> <a href='vscode-notebook-cell:/Users/christianbraun/Google%20Drive/py_langchain-test/langchain-test.ipynb#W0sZmlsZQ%3D%3D?line=12'>13</a>\u001b[0m serpapi_key \u001b[39m=\u001b[39m os\u001b[39m.\u001b[39;49menviron[\u001b[39m'\u001b[39;49m\u001b[39mSERPAPI_KEY\u001b[39;49m\u001b[39m'\u001b[39;49m]\n",
      "File \u001b[0;32m~/opt/miniconda3/envs/langchain-test/lib/python3.8/os.py:675\u001b[0m, in \u001b[0;36m_Environ.__getitem__\u001b[0;34m(self, key)\u001b[0m\n\u001b[1;32m    672\u001b[0m     value \u001b[39m=\u001b[39m \u001b[39mself\u001b[39m\u001b[39m.\u001b[39m_data[\u001b[39mself\u001b[39m\u001b[39m.\u001b[39mencodekey(key)]\n\u001b[1;32m    673\u001b[0m \u001b[39mexcept\u001b[39;00m \u001b[39mKeyError\u001b[39;00m:\n\u001b[1;32m    674\u001b[0m     \u001b[39m# raise KeyError with the original key value\u001b[39;00m\n\u001b[0;32m--> 675\u001b[0m     \u001b[39mraise\u001b[39;00m \u001b[39mKeyError\u001b[39;00m(key) \u001b[39mfrom\u001b[39;00m \u001b[39mNone\u001b[39;00m\n\u001b[1;32m    676\u001b[0m \u001b[39mreturn\u001b[39;00m \u001b[39mself\u001b[39m\u001b[39m.\u001b[39mdecodevalue(value)\n",
      "\u001b[0;31mKeyError\u001b[0m: 'SERPAPI_KEY'"
     ]
    }
   ],
   "source": [
    "# Code for Langchain Test\n",
    "from openai import OpenAI\n",
    "from dotenv import load_dotenv\n",
    "import os\n",
    "import comet_ml\n",
    "\n",
    "load_dotenv()\n",
    "\n",
    "client = OpenAI(api_key = os.getenv('OPENAI_API_KEY'))\n",
    "\n",
    "comet_ml.init(api_key=os.environ[\"COMET_ML_API_KEY\"],project_name=\"comet-example-langchain\")\n",
    "\n",
    "serpapi_key = os.environ['SERPAPI_API_KEY']"
   ]
  },
  {
   "cell_type": "code",
   "execution_count": null,
   "metadata": {},
   "outputs": [],
   "source": []
  }
 ],
 "metadata": {
  "kernelspec": {
   "display_name": "langchain-test",
   "language": "python",
   "name": "python3"
  },
  "language_info": {
   "codemirror_mode": {
    "name": "ipython",
    "version": 3
   },
   "file_extension": ".py",
   "mimetype": "text/x-python",
   "name": "python",
   "nbconvert_exporter": "python",
   "pygments_lexer": "ipython3",
   "version": "3.8.18"
  }
 },
 "nbformat": 4,
 "nbformat_minor": 2
}
