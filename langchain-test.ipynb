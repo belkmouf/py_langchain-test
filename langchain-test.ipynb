{
 "cells": [
  {
   "cell_type": "code",
   "execution_count": 1,
   "metadata": {},
   "outputs": [
    {
     "ename": "ModuleNotFoundError",
     "evalue": "No module named 'openai'",
     "output_type": "error",
     "traceback": [
      "\u001b[0;31m---------------------------------------------------------------------------\u001b[0m",
      "\u001b[0;31mModuleNotFoundError\u001b[0m                       Traceback (most recent call last)",
      "\u001b[1;32m/Users/christianbraun/Google Drive/py_langchain-test/langchain-test.ipynb Cell 1\u001b[0m line \u001b[0;36m2\n\u001b[1;32m      <a href='vscode-notebook-cell:/Users/christianbraun/Google%20Drive/py_langchain-test/langchain-test.ipynb#W0sZmlsZQ%3D%3D?line=0'>1</a>\u001b[0m \u001b[39m# Code for Langchain Test\u001b[39;00m\n\u001b[0;32m----> <a href='vscode-notebook-cell:/Users/christianbraun/Google%20Drive/py_langchain-test/langchain-test.ipynb#W0sZmlsZQ%3D%3D?line=1'>2</a>\u001b[0m \u001b[39mfrom\u001b[39;00m \u001b[39mopenai\u001b[39;00m \u001b[39mimport\u001b[39;00m OpenAI\n\u001b[1;32m      <a href='vscode-notebook-cell:/Users/christianbraun/Google%20Drive/py_langchain-test/langchain-test.ipynb#W0sZmlsZQ%3D%3D?line=2'>3</a>\u001b[0m \u001b[39mfrom\u001b[39;00m \u001b[39mdotenv\u001b[39;00m \u001b[39mimport\u001b[39;00m load_dotenv\n\u001b[1;32m      <a href='vscode-notebook-cell:/Users/christianbraun/Google%20Drive/py_langchain-test/langchain-test.ipynb#W0sZmlsZQ%3D%3D?line=3'>4</a>\u001b[0m \u001b[39mimport\u001b[39;00m \u001b[39mos\u001b[39;00m\n",
      "\u001b[0;31mModuleNotFoundError\u001b[0m: No module named 'openai'"
     ]
    }
   ],
   "source": [
    "# Code for Langchain Test\n",
    "from openai import OpenAI\n",
    "from dotenv import load_dotenv\n",
    "import os\n",
    "import comet_ml\n",
    "\n",
    "load_dotenv()\n",
    "\n",
    "client = OpenAI(api_key = os.getenv('OPENAI_API_KEY'))\n",
    "\n",
    "comet_ml.init(api_key=os.environ[\"COMET_ML_API_KEY\"],project_name=\"comet-example-langchain\")\n",
    "\n",
    "serpapi_key = os.environ['SERPAPI_API_KEY']"
   ]
  },
  {
   "cell_type": "code",
   "execution_count": 5,
   "metadata": {},
   "outputs": [
    {
     "ename": "ImportError",
     "evalue": "cannot import name 'CallbackManager' from 'langchain.callbacks.base' (/Users/christianbraun/opt/miniconda3/envs/langchain-test/lib/python3.8/site-packages/langchain/callbacks/base.py)",
     "output_type": "error",
     "traceback": [
      "\u001b[0;31m---------------------------------------------------------------------------\u001b[0m",
      "\u001b[0;31mImportError\u001b[0m                               Traceback (most recent call last)",
      "\u001b[1;32m/Users/christianbraun/Google Drive/py_langchain-test/langchain-test.ipynb Cell 2\u001b[0m line \u001b[0;36m3\n\u001b[1;32m      <a href='vscode-notebook-cell:/Users/christianbraun/Google%20Drive/py_langchain-test/langchain-test.ipynb#W1sZmlsZQ%3D%3D?line=0'>1</a>\u001b[0m \u001b[39mfrom\u001b[39;00m \u001b[39mlangchain\u001b[39;00m\u001b[39m.\u001b[39;00m\u001b[39magents\u001b[39;00m \u001b[39mimport\u001b[39;00m initialize_agent, load_tools\n\u001b[1;32m      <a href='vscode-notebook-cell:/Users/christianbraun/Google%20Drive/py_langchain-test/langchain-test.ipynb#W1sZmlsZQ%3D%3D?line=1'>2</a>\u001b[0m \u001b[39mfrom\u001b[39;00m \u001b[39mlangchain\u001b[39;00m\u001b[39m.\u001b[39;00m\u001b[39mcallbacks\u001b[39;00m \u001b[39mimport\u001b[39;00m CometCallbackHandler, StdOutCallbackHandler\n\u001b[0;32m----> <a href='vscode-notebook-cell:/Users/christianbraun/Google%20Drive/py_langchain-test/langchain-test.ipynb#W1sZmlsZQ%3D%3D?line=2'>3</a>\u001b[0m \u001b[39mfrom\u001b[39;00m \u001b[39mlangchain\u001b[39;00m\u001b[39m.\u001b[39;00m\u001b[39mcallbacks\u001b[39;00m\u001b[39m.\u001b[39;00m\u001b[39mbase\u001b[39;00m \u001b[39mimport\u001b[39;00m CallbackManager\n\u001b[1;32m      <a href='vscode-notebook-cell:/Users/christianbraun/Google%20Drive/py_langchain-test/langchain-test.ipynb#W1sZmlsZQ%3D%3D?line=3'>4</a>\u001b[0m \u001b[39mfrom\u001b[39;00m \u001b[39mlangchain\u001b[39;00m\u001b[39m.\u001b[39;00m\u001b[39mllms\u001b[39;00m \u001b[39mimport\u001b[39;00m OpenAI\n\u001b[1;32m      <a href='vscode-notebook-cell:/Users/christianbraun/Google%20Drive/py_langchain-test/langchain-test.ipynb#W1sZmlsZQ%3D%3D?line=4'>5</a>\u001b[0m \u001b[39mfrom\u001b[39;00m \u001b[39mlangchain\u001b[39;00m\u001b[39m.\u001b[39;00m\u001b[39mcallbacks\u001b[39;00m\u001b[39m.\u001b[39;00m\u001b[39mmanager\u001b[39;00m \u001b[39mimport\u001b[39;00m AsyncCallbackManager\n",
      "\u001b[0;31mImportError\u001b[0m: cannot import name 'CallbackManager' from 'langchain.callbacks.base' (/Users/christianbraun/opt/miniconda3/envs/langchain-test/lib/python3.8/site-packages/langchain/callbacks/base.py)"
     ]
    }
   ],
   "source": [
    "from langchain.agents import initialize_agent, load_tools\n",
    "from langchain.callbacks import CometCallbackHandler, StdOutCallbackHandler\n",
    "from langchain.callbacks.base import CallbackManager\n",
    "from langchain.llms import OpenAI\n",
    "from langchain.callbacks.manager import AsyncCallbackManager\n",
    "\n",
    "comet_callback = CometCallbackHandler(\n",
    "    project_name=\"langchain-example\",\n",
    "    complexity_metrics=True,\n",
    "    stream_logs=True,\n",
    "    tags=[\"agent\"],\n",
    ")\n",
    "manager = CallbackManager([StdOutCallbackHandler(), comet_callback])\n",
    "\n",
    "llm = OpenAI(temperature=0.9, callback_manager=manager, verbose=True)\n",
    "tools = load_tools([\"serpapi\"], llm=llm, callback_manager=manager)\n",
    "\n",
    "agent = initialize_agent(\n",
    "    tools,\n",
    "    llm,\n",
    "    agent=\"zero-shot-react-description\",\n",
    "    callback_manager=manager,\n",
    "    verbose=True,\n",
    ")\n",
    "\n",
    "agent.run(\n",
    "    \"What's the population of the country of the team that won the last soccer match between Real Madrid and Chelsea?\"\n",
    ")\n",
    "\n",
    "comet_callback.flush_tracker(agent, finish=True)"
   ]
  }
 ],
 "metadata": {
  "kernelspec": {
   "display_name": "langchain-test",
   "language": "python",
   "name": "python3"
  },
  "language_info": {
   "codemirror_mode": {
    "name": "ipython",
    "version": 3
   },
   "file_extension": ".py",
   "mimetype": "text/x-python",
   "name": "python",
   "nbconvert_exporter": "python",
   "pygments_lexer": "ipython3",
   "version": "3.12.0"
  }
 },
 "nbformat": 4,
 "nbformat_minor": 2
}
